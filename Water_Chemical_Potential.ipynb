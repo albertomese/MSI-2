{
 "cells": [
  {
   "cell_type": "markdown",
   "metadata": {},
   "source": [
    "# Water Chemical Potential\n",
    "\n",
    "By Alberto Meseguer"
   ]
  },
  {
   "cell_type": "markdown",
   "metadata": {},
   "source": [
    "Here I will explain how my program works. There are few differences between the code in this notebook and the python code I have submitted. The main difference is that my python code works taking arguments from the execution line. These arguments define the names of the input and output files, and also define the sigma value for the gaussian normalization of the distribution of water molecules.\n",
    "\n",
    "The goal of this program is to generate a .cube file which contains an isosurface regarding the water chemical potential for a set of molecular simulations. This is achieved by using the function writeVoxels, which will take a three dimensional array which contains information about the distribution of water molecules along the three dimensional space. The whole program is oriented to the obtaining of this array and to the execution of the writeVoxels function."
   ]
  },
  {
   "cell_type": "markdown",
   "metadata": {},
   "source": [
    "We will start by importing all the necesary packages:"
   ]
  },
  {
   "cell_type": "code",
   "execution_count": 14,
   "metadata": {
    "collapsed": false
   },
   "outputs": [],
   "source": [
    "import os\n",
    "import sys\n",
    "import re\n",
    "import argparse\n",
    "import itertools\n",
    "import time\n",
    "import pickle\n",
    "from htmd import *\n",
    "from numpy import *\n",
    "from htmd.molecule.util import *"
   ]
  },
  {
   "cell_type": "markdown",
   "metadata": {},
   "source": [
    "Now, the first step is to create a simulation list from the dataset of our simulations. In the python code, the input file is specified by an argument in the command line."
   ]
  },
  {
   "cell_type": "code",
   "execution_count": 15,
   "metadata": {
    "collapsed": false
   },
   "outputs": [
    {
     "name": "stdout",
     "output_type": "stream",
     "text": [
      "Creating simlist: 100% (1/1) [#####################################] eta --:-- -\n"
     ]
    }
   ],
   "source": [
    "sims = simlist(glob(\"CXCL12-confAnalysis/*/\"), glob(\"CXCL12-confAnalysis/*/\" + \"structure.pdb\"), glob(\"CXCL12-confAnalysis/*/\"))"
   ]
  },
  {
   "cell_type": "markdown",
   "metadata": {},
   "source": [
    "Then, we will define some variables that will be used along the program. "
   ]
  },
  {
   "cell_type": "code",
   "execution_count": 16,
   "metadata": {
    "collapsed": true
   },
   "outputs": [],
   "source": [
    "num_wat = 0\n",
    "t = 298\n",
    "kb = 0.001987191\n",
    "mol_list = list()\n",
    "MA = list()"
   ]
  },
  {
   "cell_type": "markdown",
   "metadata": {},
   "source": [
    "Now we will iterate on all the elements in the simulation list. This iteration has two objectives: getting the furthest point from the origin of coordinates with possitive sign in the x axis in the first frame, and creating a list containing structures with their respective trajectories. "
   ]
  },
  {
   "cell_type": "code",
   "execution_count": 17,
   "metadata": {
    "collapsed": true
   },
   "outputs": [],
   "source": [
    "for element in sims:\n",
    "\tmol = Molecule(element.molfile)\n",
    "\tmol.read(element.trajectory)\n",
    "\tmol.wrap()\n",
    "\tmol.align(\"protein\", refmol= Molecule(element.molfile))\n",
    "\tMA.append(amax(mol.coords[:,0,0])) \n",
    "\tmol_list.append(mol)"
   ]
  },
  {
   "cell_type": "markdown",
   "metadata": {},
   "source": [
    "MA contains the maximum coordinate for the x axis in the first frame for all simulations. We will use this value for making an estimation of the dimensions of the box where the simulation has been carried. For that, we asume that the simulations are carried in a cubical space. This will be useful for moving the simulation to a possitive quadrant in the three dimensional space. Avoiding negative coordinates will ease the calculations of the program. Thus, we get maximum, which will have the highest value of the X coordinate from all the simulations. "
   ]
  },
  {
   "cell_type": "code",
   "execution_count": 19,
   "metadata": {
    "collapsed": false
   },
   "outputs": [
    {
     "name": "stdout",
     "output_type": "stream",
     "text": [
      "[36.486942]\n",
      "36.4869\n",
      "47.4330249786\n",
      "109\n"
     ]
    }
   ],
   "source": [
    "maximum = max(MA) * 1.3\n",
    "cord = int(floor(maximum*2.2))\n",
    "mat = zeros((cord, cord, cord))\n",
    "print(MA)\n",
    "print(max(MA))\n",
    "print(maximum)\n",
    "print(cord)"
   ]
  },
  {
   "cell_type": "markdown",
   "metadata": {},
   "source": [
    "Then, now we will iterate on all molecules contained in our dataset, which have been appended to the list mol_list. Each element of the list will be included as an argument in the get_mat function. This function will return a three dimensional array, where each coordinate corresponds with a coordinate in three dimensional space. This array will contain the number of atoms of oxygen belonging to a molecule of water that have been found on that particular region of the three dimensional space. Then, we first define the function get_mat."
   ]
  },
  {
   "cell_type": "markdown",
   "metadata": {},
   "source": [
    "As we see, in this function we first move the box to a positive quadrant. Then, we filter all atoms of oxygen belonging to a molecule of water and we count the number of molecules of water that we have in the simulation considering all frames. Then, we iterate over all the frames, and inside of it we iterate for all oxygen atoms. For each oxygen atom we get it's coordinates, we round them and we add one to the value in the multidimensional array corresponding with the specified coordinates of the atom. For a proper performance, the matrix has to be big enough so all atoms of oxygen in the box should be included. However, negative values are not included as coordinates, that's why we move the whole molecule to a possitive quadrant. Just in case we have some unexpected molecule of water in negative or non considered coordinates, we have a warning comand that will inform us in case that this happens. Finally, the function returns the three dimension array and the number of molecules of water of the whole simulation."
   ]
  },
  {
   "cell_type": "code",
   "execution_count": 20,
   "metadata": {
    "collapsed": true
   },
   "outputs": [],
   "source": [
    "def get_mat(element, mat, num_wat, maximum):\n",
    "\tmol = element\n",
    "\tmol.moveBy([maximum, maximum, maximum])\n",
    "\twater = mol.copy()\n",
    "\twater.filter(\"name OH2\")\n",
    "\tnum_wat += (water.coords.shape[-1] * water.coords.shape[0])\n",
    "\tfor i in range(water.coords.shape[-1]):\n",
    "\t\tfor o in water.coords[:,:,i]:\n",
    "\t\t\ta = int(floor(o[0]))\n",
    "\t\t\tb = int(floor(o[1]))\n",
    "\t\t\tc = int(floor(o[2]))\n",
    "\t\t\ttry:\n",
    "\t\t\t\tmat[a, b, c] += 1\n",
    "\t\t\texcept:\n",
    "\t\t\t\tsys.stderr.write(\"Water outside the box found at coordinates \" + str(a) + \", \" + str(b) + \", \" + str(c) + \". \\n\")\n",
    "\t\t\t\tnum_wat -= 1\n",
    "\n",
    "\n",
    "\ttup = (num_wat, mat)\n",
    "\treturn tup"
   ]
  },
  {
   "cell_type": "markdown",
   "metadata": {},
   "source": [
    "Once this function is run, we define the two outputs of it, because these will be also arguments of the function in further runs. Then, the matrix and the number of waters are being modified every time this function is called."
   ]
  },
  {
   "cell_type": "code",
   "execution_count": 21,
   "metadata": {
    "collapsed": false
   },
   "outputs": [
    {
     "name": "stderr",
     "output_type": "stream",
     "text": [
      "Water outside the box found at coordinates -261, 8, 296. \n"
     ]
    },
    {
     "name": "stdout",
     "output_type": "stream",
     "text": [
      "14131999\n"
     ]
    }
   ],
   "source": [
    "for element in mol_list:\n",
    "\t\tres = get_mat(element, mat, num_wat, maximum)\n",
    "\t\tnum_wat = res[0]\n",
    "\t\tmat = res[1]\n",
    "\t\tprint(num_wat)"
   ]
  },
  {
   "cell_type": "markdown",
   "metadata": {},
   "source": [
    "Here is the main difference between the python code and this notebook: the assignation of the sigma value for the gaussian correction of the water molecule distribution. For doing this we define a variable named sigma, containing the value in amstrongs of the standard deviation. Then, we introduce our matrix and this sigma value in the gaussian_filter function from scipy. "
   ]
  },
  {
   "cell_type": "code",
   "execution_count": 22,
   "metadata": {
    "collapsed": false
   },
   "outputs": [
    {
     "data": {
      "text/plain": [
       "146.0"
      ]
     },
     "execution_count": 22,
     "metadata": {},
     "output_type": "execute_result"
    }
   ],
   "source": [
    "from scipy.ndimage.filters import *\n",
    "sigma = 0.1\n",
    "mat = gaussian_filter(mat, sigma)\n",
    "amax(mat)"
   ]
  },
  {
   "cell_type": "markdown",
   "metadata": {},
   "source": [
    "Once we have the multidimension array ready, we perform several mathematical transformations on this matrix. First, we replace zero values by 10^-100. Doing this we are avoiding discordant mathematical operations in the following operations of the program. Second, we apply the formula corresponding to the chemical potential of water. "
   ]
  },
  {
   "cell_type": "code",
   "execution_count": 23,
   "metadata": {
    "collapsed": true
   },
   "outputs": [],
   "source": [
    "mat[mat == 0] = 10**-100\n",
    "mat = -(kb * t * ma.log(mat/num_wat))"
   ]
  },
  {
   "cell_type": "markdown",
   "metadata": {},
   "source": [
    "Now, we define arrays which determine the extreme values of the grid. We have defined the dimensions of our grid as a function of the maximum x value on the first frame, this value was saved on the variable cord. So we define the maximum point of the array as the coord value for all dimensions, and zero as the minimum point in all directions. We also define an array with the resolution of the grid, which is one amstrong."
   ]
  },
  {
   "cell_type": "code",
   "execution_count": 24,
   "metadata": {
    "collapsed": true
   },
   "outputs": [],
   "source": [
    "max_vec = array([cord, cord, cord])\n",
    "min_vec = array([0,0,0])\n",
    "res_vec = array([1,1,1])"
   ]
  },
  {
   "cell_type": "markdown",
   "metadata": {},
   "source": [
    "Finally, we call the writeVoxel function, which will create a volumetric file containing an isosurface for water distribution in the three dimensional space. In the python scritp there's also a difference here, due the fact that the name of the output .cube file is specified by an argument."
   ]
  },
  {
   "cell_type": "code",
   "execution_count": 25,
   "metadata": {
    "collapsed": false
   },
   "outputs": [],
   "source": [
    "writeVoxels(mat, \"isosurface.cube\", min_vec, max_vec, res_vec)"
   ]
  },
  {
   "cell_type": "markdown",
   "metadata": {},
   "source": [
    "Now, the obtained isosurface can be visualized with vmd."
   ]
  }
 ],
 "metadata": {
  "kernelspec": {
   "display_name": "Python 3",
   "language": "python",
   "name": "python3"
  },
  "language_info": {
   "codemirror_mode": {
    "name": "ipython",
    "version": 3
   },
   "file_extension": ".py",
   "mimetype": "text/x-python",
   "name": "python",
   "nbconvert_exporter": "python",
   "pygments_lexer": "ipython3",
   "version": "3.5.1"
  }
 },
 "nbformat": 4,
 "nbformat_minor": 0
}
